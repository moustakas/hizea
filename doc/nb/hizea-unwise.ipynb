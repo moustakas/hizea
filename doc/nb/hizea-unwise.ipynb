{
 "cells": [
  {
   "cell_type": "markdown",
   "metadata": {},
   "source": [
    "# Gather unWISE photometry for the HST sample\n",
    "\n",
    "The goal of this notebook is to document how we retrieve DR14 SDSS *ugriz* and unWISE *W1-W4* (forced) photometry for the HST HizEA sample of galaxies.\n",
    "\n",
    "The input catalog is\n",
    "* $HIZEA_DIR/etc/hst_sample.dat\n",
    "\n",
    "and the output (row-matched) catalog containing *just* the SDSS/unWISE photometry is\n",
    "* $HIZEA_DIR/etc/XXX"
   ]
  },
  {
   "cell_type": "code",
   "execution_count": 34,
   "metadata": {},
   "outputs": [],
   "source": [
    "import os\n",
    "import numpy as np\n",
    "import matplotlib.pyplot as plt"
   ]
  },
  {
   "cell_type": "code",
   "execution_count": 35,
   "metadata": {},
   "outputs": [],
   "source": [
    "import fitsio\n",
    "from astropy.io import ascii\n",
    "from astropy.table import Table"
   ]
  },
  {
   "cell_type": "code",
   "execution_count": 36,
   "metadata": {},
   "outputs": [],
   "source": [
    "import astropy.units as u\n",
    "from astropy.coordinates import SkyCoord"
   ]
  },
  {
   "cell_type": "code",
   "execution_count": 37,
   "metadata": {},
   "outputs": [],
   "source": [
    "%matplotlib inline"
   ]
  },
  {
   "cell_type": "code",
   "execution_count": 20,
   "metadata": {},
   "outputs": [],
   "source": [
    "def read_hizea():\n",
    "    cat = ascii.read( os.path.join( os.getenv('HIZEA_DIR'), 'etc', 'hst_sample.dat' ) )\n",
    "    return cat"
   ]
  },
  {
   "cell_type": "code",
   "execution_count": 21,
   "metadata": {},
   "outputs": [
    {
     "data": {
      "text/html": [
       "&lt;Table length=29&gt;\n",
       "<table id=\"table4624402304\" class=\"table-striped table-bordered table-condensed\">\n",
       "<thead><tr><th>galaxy</th><th>ra</th><th>dec</th><th>z</th><th>r_e</th><th>vout</th><th>wise_sfr</th></tr></thead>\n",
       "<thead><tr><th>str10</th><th>float64</th><th>float64</th><th>float64</th><th>float64</th><th>int64</th><th>int64</th></tr></thead>\n",
       "<tr><td>J1506+5402</td><td>226.65123962</td><td>54.03909907</td><td>0.608</td><td>0.13</td><td>-1211</td><td>621</td></tr>\n",
       "<tr><td>J0905+5759</td><td>136.3483394</td><td>57.98680093</td><td>0.712</td><td>0.1</td><td>-2470</td><td>344</td></tr>\n",
       "<tr><td>J1341-0321</td><td>205.40333219</td><td>-3.35701866</td><td>0.658</td><td>0.16</td><td>-875</td><td>490</td></tr>\n",
       "<tr><td>J0944+0930</td><td>146.07436936</td><td>9.50537816</td><td>0.514</td><td>0.15</td><td>-1778</td><td>161</td></tr>\n",
       "<tr><td>J2140+1209</td><td>325.00205248</td><td>12.15405848</td><td>0.752</td><td>0.23</td><td>-606</td><td>378</td></tr>\n",
       "<tr><td>J0826+4305</td><td>126.66007153</td><td>43.09150738</td><td>0.603</td><td>0.31</td><td>-1228</td><td>246</td></tr>\n",
       "<tr><td>J1613+2834</td><td>243.38552761</td><td>28.5707732</td><td>0.449</td><td>0.68</td><td>-2416</td><td>461</td></tr>\n",
       "<tr><td>J1219+0336</td><td>184.98241233</td><td>3.60441687</td><td>0.451</td><td>0.76</td><td>-1830</td><td>253</td></tr>\n",
       "<tr><td>J1107+0417</td><td>166.7619674</td><td>4.28410187</td><td>0.467</td><td>0.56</td><td>-1828</td><td>118</td></tr>\n",
       "<tr><td>J0901+0314</td><td>135.38927607</td><td>3.23679732</td><td>0.459</td><td>0.51</td><td>-1206</td><td>92</td></tr>\n",
       "<tr><td>...</td><td>...</td><td>...</td><td>...</td><td>...</td><td>...</td><td>...</td></tr>\n",
       "<tr><td>J2256+1504</td><td>344.0990057</td><td>15.07354666</td><td>0.727</td><td>0.76</td><td>-800</td><td>8</td></tr>\n",
       "<tr><td>J1506+6131</td><td>226.51539189</td><td>61.53003498</td><td>0.437</td><td>0.83</td><td>0</td><td>8</td></tr>\n",
       "<tr><td>J0908+1039</td><td>137.17818041</td><td>10.65021868</td><td>0.502</td><td>1.24</td><td>0</td><td>8</td></tr>\n",
       "<tr><td>J0827+2954</td><td>126.89114553</td><td>29.9142367</td><td>0.681</td><td>1.36</td><td>0</td><td>8</td></tr>\n",
       "<tr><td>J1634+4619</td><td>248.69366588</td><td>46.32967857</td><td>0.576</td><td>1.79</td><td>0</td><td>11</td></tr>\n",
       "<tr><td>J1232+0723</td><td>188.06594691</td><td>7.38909212</td><td>0.4</td><td>2.2</td><td>-491</td><td>15</td></tr>\n",
       "<tr><td>J1104+5946</td><td>166.15609592</td><td>59.77767736</td><td>0.573</td><td>0.2</td><td>-1354</td><td>0</td></tr>\n",
       "<tr><td>J1229+3545</td><td>187.45763187</td><td>35.75475434</td><td>0.614</td><td>0.95</td><td>-669</td><td>0</td></tr>\n",
       "<tr><td>J1248+0601</td><td>192.02982804</td><td>6.01995682</td><td>0.632</td><td>0.78</td><td>-477</td><td>0</td></tr>\n",
       "<tr><td>J1713+2817</td><td>258.25160602</td><td>28.28563074</td><td>0.577</td><td>0.74</td><td>-868</td><td>0</td></tr>\n",
       "</table>"
      ],
      "text/plain": [
       "<Table length=29>\n",
       "  galaxy        ra          dec        z      r_e    vout wise_sfr\n",
       "  str10      float64      float64   float64 float64 int64  int64  \n",
       "---------- ------------ ----------- ------- ------- ----- --------\n",
       "J1506+5402 226.65123962 54.03909907   0.608    0.13 -1211      621\n",
       "J0905+5759  136.3483394 57.98680093   0.712     0.1 -2470      344\n",
       "J1341-0321 205.40333219 -3.35701866   0.658    0.16  -875      490\n",
       "J0944+0930 146.07436936  9.50537816   0.514    0.15 -1778      161\n",
       "J2140+1209 325.00205248 12.15405848   0.752    0.23  -606      378\n",
       "J0826+4305 126.66007153 43.09150738   0.603    0.31 -1228      246\n",
       "J1613+2834 243.38552761  28.5707732   0.449    0.68 -2416      461\n",
       "J1219+0336 184.98241233  3.60441687   0.451    0.76 -1830      253\n",
       "J1107+0417  166.7619674  4.28410187   0.467    0.56 -1828      118\n",
       "J0901+0314 135.38927607  3.23679732   0.459    0.51 -1206       92\n",
       "       ...          ...         ...     ...     ...   ...      ...\n",
       "J2256+1504  344.0990057 15.07354666   0.727    0.76  -800        8\n",
       "J1506+6131 226.51539189 61.53003498   0.437    0.83     0        8\n",
       "J0908+1039 137.17818041 10.65021868   0.502    1.24     0        8\n",
       "J0827+2954 126.89114553  29.9142367   0.681    1.36     0        8\n",
       "J1634+4619 248.69366588 46.32967857   0.576    1.79     0       11\n",
       "J1232+0723 188.06594691  7.38909212     0.4     2.2  -491       15\n",
       "J1104+5946 166.15609592 59.77767736   0.573     0.2 -1354        0\n",
       "J1229+3545 187.45763187 35.75475434   0.614    0.95  -669        0\n",
       "J1248+0601 192.02982804  6.01995682   0.632    0.78  -477        0\n",
       "J1713+2817 258.25160602 28.28563074   0.577    0.74  -868        0"
      ]
     },
     "execution_count": 21,
     "metadata": {},
     "output_type": "execute_result"
    }
   ],
   "source": [
    "hizea = read_hizea()\n",
    "hizea"
   ]
  },
  {
   "cell_type": "code",
   "execution_count": 27,
   "metadata": {},
   "outputs": [],
   "source": [
    "def read_unwise():\n",
    "    unwisefile = os.path.join(os.getenv('IM_DATA_DIR'), 'unwise', 'specmatch-dr10.fits')\n",
    "    ff = fitsio.FITS(unwisefile)\n",
    "    columns = list( ('wise_ra', 'wise_dec') )\n",
    "    columns = columns + ['wise_{}_nanomaggies'.format(band) for band in ('w1', 'w2', 'w3', 'w4')]\n",
    "    columns = columns + ['wise_{}_nanomaggies_ivar'.format(band) for band in ('w1', 'w2', 'w3', 'w4')]\n",
    "    print('Reading {}'.format(unwisefile))\n",
    "    ww = ff[1].where(\"wise_ra > 0 && wise_dec > 0\")\n",
    "    unwise = Table(ff[1].read(columns=columns, ext=1, rows=ww))\n",
    "    return unwise"
   ]
  },
  {
   "cell_type": "code",
   "execution_count": 28,
   "metadata": {},
   "outputs": [
    {
     "name": "stdout",
     "output_type": "stream",
     "text": [
      "Reading /Users/ioannis/research/data/unwise/specmatch-dr10.fits\n"
     ]
    },
    {
     "data": {
      "text/html": [
       "&lt;Table length=2683302&gt;\n",
       "<table id=\"table4624918568\" class=\"table-striped table-bordered table-condensed\">\n",
       "<thead><tr><th>wise_ra</th><th>wise_dec</th><th>wise_w1_nanomaggies</th><th>wise_w1_nanomaggies_ivar</th><th>wise_w2_nanomaggies</th><th>wise_w2_nanomaggies_ivar</th><th>wise_w3_nanomaggies</th><th>wise_w3_nanomaggies_ivar</th><th>wise_w4_nanomaggies</th><th>wise_w4_nanomaggies_ivar</th></tr></thead>\n",
       "<thead><tr><th>float64</th><th>float64</th><th>float32</th><th>float32</th><th>float32</th><th>float32</th><th>float32</th><th>float32</th><th>float32</th><th>float32</th></tr></thead>\n",
       "<tr><td>146.943881222</td><td>0.0391758351521</td><td>1363.25</td><td>0.00500747</td><td>1358.72</td><td>0.000374917</td><td>-839.871</td><td>9.20983e-08</td><td>174809.0</td><td>1.39546e-10</td></tr>\n",
       "<tr><td>147.329501905</td><td>0.0289007540392</td><td>11432.1</td><td>0.0013918</td><td>13918.1</td><td>0.00011565</td><td>496630.0</td><td>3.14952e-08</td><td>8.2514e+06</td><td>6.14016e-11</td></tr>\n",
       "<tr><td>146.763835489</td><td>0.0414016530208</td><td>469.098</td><td>0.00414787</td><td>1412.71</td><td>0.000306162</td><td>24892.5</td><td>6.6069e-08</td><td>60771.7</td><td>9.65525e-11</td></tr>\n",
       "<tr><td>146.760769038</td><td>0.0159539188264</td><td>4319.5</td><td>0.00201472</td><td>5020.11</td><td>0.00015421</td><td>108112.0</td><td>3.84801e-08</td><td>480762.0</td><td>6.80027e-11</td></tr>\n",
       "<tr><td>146.809135997</td><td>0.0263629083752</td><td>7506.41</td><td>0.00155128</td><td>8952.06</td><td>0.000122387</td><td>14974.5</td><td>3.01488e-08</td><td>641314.0</td><td>5.72089e-11</td></tr>\n",
       "<tr><td>146.729008857</td><td>0.0269572735449</td><td>3413.85</td><td>0.00309281</td><td>3694.31</td><td>0.000239629</td><td>1511.0</td><td>5.21995e-08</td><td>58216.6</td><td>8.79149e-11</td></tr>\n",
       "<tr><td>146.630700168</td><td>0.0709745384969</td><td>2902.07</td><td>0.00206002</td><td>3358.64</td><td>0.000161601</td><td>3242.64</td><td>3.9688e-08</td><td>152124.0</td><td>7.36789e-11</td></tr>\n",
       "<tr><td>146.608070514</td><td>0.0476782446485</td><td>1341.39</td><td>0.00250974</td><td>1631.97</td><td>0.000191587</td><td>38923.7</td><td>4.87348e-08</td><td>144250.0</td><td>8.31926e-11</td></tr>\n",
       "<tr><td>146.369872098</td><td>0.0821892399741</td><td>2359.74</td><td>0.0022775</td><td>2520.18</td><td>0.000180823</td><td>63687.5</td><td>3.84821e-08</td><td>177877.0</td><td>6.80085e-11</td></tr>\n",
       "<tr><td>146.347076829</td><td>0.0754094733422</td><td>2731.89</td><td>0.00254231</td><td>2806.18</td><td>0.000195143</td><td>41691.7</td><td>4.22733e-08</td><td>232807.0</td><td>7.19846e-11</td></tr>\n",
       "<tr><td>...</td><td>...</td><td>...</td><td>...</td><td>...</td><td>...</td><td>...</td><td>...</td><td>...</td><td>...</td></tr>\n",
       "<tr><td>259.742903416</td><td>41.7404369548</td><td>599.119</td><td>0.0109069</td><td>721.038</td><td>0.000858521</td><td>2133.91</td><td>2.1519e-07</td><td>-15407.3</td><td>2.85316e-10</td></tr>\n",
       "<tr><td>259.918405763</td><td>41.6782590239</td><td>75.1293</td><td>0.0105713</td><td>149.017</td><td>0.000836109</td><td>2909.89</td><td>1.78656e-07</td><td>22914.3</td><td>1.53483e-10</td></tr>\n",
       "<tr><td>259.91296499</td><td>41.7032820724</td><td>128.306</td><td>0.00983937</td><td>-10.0528</td><td>0.000767529</td><td>8542.9</td><td>1.75821e-07</td><td>-310130.0</td><td>1.59183e-10</td></tr>\n",
       "<tr><td>259.716189743</td><td>41.8046275154</td><td>1722.08</td><td>0.00769653</td><td>2103.8</td><td>0.000607387</td><td>-3320.92</td><td>1.61518e-07</td><td>-24623.6</td><td>2.42267e-10</td></tr>\n",
       "<tr><td>259.645287995</td><td>41.6499484663</td><td>709.781</td><td>0.00742951</td><td>792.36</td><td>0.000596938</td><td>-5033.45</td><td>1.5972e-07</td><td>254539.0</td><td>2.43556e-10</td></tr>\n",
       "<tr><td>259.635480549</td><td>41.6197423452</td><td>2506.34</td><td>0.00452711</td><td>3123.17</td><td>0.000398389</td><td>-1950.26</td><td>1.1186e-07</td><td>-175478.0</td><td>1.95864e-10</td></tr>\n",
       "<tr><td>259.659439554</td><td>41.7582309645</td><td>1055.2</td><td>0.00801324</td><td>1137.68</td><td>0.000657905</td><td>-940.602</td><td>1.72005e-07</td><td>38971.6</td><td>2.53323e-10</td></tr>\n",
       "<tr><td>259.788728482</td><td>41.7690151467</td><td>1730.93</td><td>0.00601491</td><td>2022.31</td><td>0.000501604</td><td>5348.92</td><td>1.41012e-07</td><td>-179993.0</td><td>2.20564e-10</td></tr>\n",
       "<tr><td>259.769854764</td><td>41.6397205648</td><td>1067.73</td><td>0.00821004</td><td>1145.5</td><td>0.000662173</td><td>-4834.61</td><td>1.66114e-07</td><td>-94671.6</td><td>2.41504e-10</td></tr>\n",
       "<tr><td>259.686283175</td><td>41.8085103216</td><td>821.531</td><td>0.00881233</td><td>835.893</td><td>0.000675509</td><td>-829.077</td><td>1.72092e-07</td><td>-62637.6</td><td>2.38301e-10</td></tr>\n",
       "</table>"
      ],
      "text/plain": [
       "<Table length=2683302>\n",
       "   wise_ra        wise_dec    ... wise_w4_nanomaggies wise_w4_nanomaggies_ivar\n",
       "   float64        float64     ...       float32               float32         \n",
       "------------- --------------- ... ------------------- ------------------------\n",
       "146.943881222 0.0391758351521 ...            174809.0              1.39546e-10\n",
       "147.329501905 0.0289007540392 ...          8.2514e+06              6.14016e-11\n",
       "146.763835489 0.0414016530208 ...             60771.7              9.65525e-11\n",
       "146.760769038 0.0159539188264 ...            480762.0              6.80027e-11\n",
       "146.809135997 0.0263629083752 ...            641314.0              5.72089e-11\n",
       "146.729008857 0.0269572735449 ...             58216.6              8.79149e-11\n",
       "146.630700168 0.0709745384969 ...            152124.0              7.36789e-11\n",
       "146.608070514 0.0476782446485 ...            144250.0              8.31926e-11\n",
       "146.369872098 0.0821892399741 ...            177877.0              6.80085e-11\n",
       "146.347076829 0.0754094733422 ...            232807.0              7.19846e-11\n",
       "          ...             ... ...                 ...                      ...\n",
       "259.742903416   41.7404369548 ...            -15407.3              2.85316e-10\n",
       "259.918405763   41.6782590239 ...             22914.3              1.53483e-10\n",
       " 259.91296499   41.7032820724 ...           -310130.0              1.59183e-10\n",
       "259.716189743   41.8046275154 ...            -24623.6              2.42267e-10\n",
       "259.645287995   41.6499484663 ...            254539.0              2.43556e-10\n",
       "259.635480549   41.6197423452 ...           -175478.0              1.95864e-10\n",
       "259.659439554   41.7582309645 ...             38971.6              2.53323e-10\n",
       "259.788728482   41.7690151467 ...           -179993.0              2.20564e-10\n",
       "259.769854764   41.6397205648 ...            -94671.6              2.41504e-10\n",
       "259.686283175   41.8085103216 ...            -62637.6              2.38301e-10"
      ]
     },
     "execution_count": 28,
     "metadata": {},
     "output_type": "execute_result"
    }
   ],
   "source": [
    "unwise = read_unwise()\n",
    "unwise"
   ]
  },
  {
   "cell_type": "code",
   "execution_count": 57,
   "metadata": {},
   "outputs": [],
   "source": [
    "unwisecoord = SkyCoord(ra=unwise['wise_ra']*u.deg, dec=unwise['wise_dec']*u.deg)\n",
    "hizeacoord = SkyCoord(ra=hizea['ra']*u.deg, dec=hizea['dec']*u.deg)\n",
    "idx, sep2d, d3d = hizeacoord.match_to_catalog_sky(unwisecoord, nthneighbor=1)"
   ]
  },
  {
   "cell_type": "code",
   "execution_count": 67,
   "metadata": {},
   "outputs": [
    {
     "data": {
      "image/png": "[encoded data removed]",
      "text/plain": [
       "<matplotlib.figure.Figure at 0x65878f630>"
      ]
     },
     "metadata": {},
     "output_type": "display_data"
    }
   ],
   "source": [
    "_ = plt.hist(3600*(unwise['wise_ra'][idx] - hizea['ra']).data)"
   ]
  },
  {
   "cell_type": "code",
   "execution_count": 54,
   "metadata": {},
   "outputs": [],
   "source": [
    "def qa_sep(sep2d):\n",
    "    fig, ax = plt.subplots()\n",
    "    _, _, _ = ax.hist(sep2d.arcsec, bins=100, range=(0, 0.5), alpha=0.5)\n",
    "    ax.set_xlabel('Separation (arcsec)')\n",
    "    ax.set_ylabel('Number of Galaxies')"
   ]
  },
  {
   "cell_type": "code",
   "execution_count": 55,
   "metadata": {},
   "outputs": [
    {
     "data": {
      "image/png": "[encoded data removed]",
      "text/plain": [
       "<matplotlib.figure.Figure at 0x658740978>"
      ]
     },
     "metadata": {},
     "output_type": "display_data"
    }
   ],
   "source": [
    "qa_sep(sep2d)"
   ]
  },
  {
   "cell_type": "code",
   "execution_count": 44,
   "metadata": {},
   "outputs": [],
   "source": [
    "rad = 0.5 * u.arcsec"
   ]
  },
  {
   "cell_type": "code",
   "execution_count": 45,
   "metadata": {},
   "outputs": [
    {
     "name": "stdout",
     "output_type": "stream",
     "text": [
      "Found 29/2683302 objects with matching unWISE photometry within 0.5 arcsec\n"
     ]
    }
   ],
   "source": [
    "indx_unwise, indx_hizea, d2d, _ = hizeacoord.search_around_sky(unwisecoord, rad)\n",
    "nmatch = len(indx_unwise)\n",
    "print('Found {}/{} objects with matching unWISE photometry within {}'.format(nmatch, len(unwise), rad))"
   ]
  },
  {
   "cell_type": "code",
   "execution_count": 48,
   "metadata": {},
   "outputs": [
    {
     "data": {
      "text/plain": [
       "array([ 1,  1,  1,  7,  9,  8,  8, 20, 23, 14,  4, 19,  5,  5,  0, 27, 25,\n",
       "       28, 13, 15, 12, 22,  3, 18,  6, 24, 17, 21, 26])"
      ]
     },
     "execution_count": 48,
     "metadata": {},
     "output_type": "execute_result"
    }
   ],
   "source": [
    "indx_hizea"
   ]
  },
  {
   "cell_type": "code",
   "execution_count": 49,
   "metadata": {},
   "outputs": [
    {
     "data": {
      "text/latex": [
       "[$0^\\circ00{}^\\prime00.0488{}^{\\prime\\prime}$\n",
       " $0^\\circ00{}^\\prime00.0488{}^{\\prime\\prime}$\n",
       " $0^\\circ00{}^\\prime00.0488{}^{\\prime\\prime}$\n",
       " $0^\\circ00{}^\\prime00.0252{}^{\\prime\\prime}$\n",
       " $0^\\circ00{}^\\prime00.0598{}^{\\prime\\prime}$\n",
       " $0^\\circ00{}^\\prime00.0132{}^{\\prime\\prime}$\n",
       " $0^\\circ00{}^\\prime00.0132{}^{\\prime\\prime}$\n",
       " $0^\\circ00{}^\\prime00.0229{}^{\\prime\\prime}$\n",
       " $0^\\circ00{}^\\prime00.0176{}^{\\prime\\prime}$\n",
       " $0^\\circ00{}^\\prime00.0085{}^{\\prime\\prime}$\n",
       " $0^\\circ00{}^\\prime00.034{}^{\\prime\\prime}$\n",
       " $0^\\circ00{}^\\prime00.0602{}^{\\prime\\prime}$\n",
       " $0^\\circ00{}^\\prime00.0438{}^{\\prime\\prime}$\n",
       " $0^\\circ00{}^\\prime00.0438{}^{\\prime\\prime}$\n",
       " $0^\\circ00{}^\\prime00.0182{}^{\\prime\\prime}$\n",
       " $0^\\circ00{}^\\prime00.0796{}^{\\prime\\prime}$\n",
       " $0^\\circ00{}^\\prime00.0312{}^{\\prime\\prime}$\n",
       " $0^\\circ00{}^\\prime00.0018{}^{\\prime\\prime}$\n",
       " $0^\\circ00{}^\\prime00.0292{}^{\\prime\\prime}$\n",
       " $0^\\circ00{}^\\prime00.0062{}^{\\prime\\prime}$\n",
       " $0^\\circ00{}^\\prime00.0286{}^{\\prime\\prime}$\n",
       " $0^\\circ00{}^\\prime00.0236{}^{\\prime\\prime}$\n",
       " $0^\\circ00{}^\\prime00.0267{}^{\\prime\\prime}$\n",
       " $0^\\circ00{}^\\prime00.0876{}^{\\prime\\prime}$\n",
       " $0^\\circ00{}^\\prime00.0107{}^{\\prime\\prime}$\n",
       " $0^\\circ00{}^\\prime00.0364{}^{\\prime\\prime}$\n",
       " $0^\\circ00{}^\\prime00.1205{}^{\\prime\\prime}$\n",
       " $0^\\circ00{}^\\prime00.0256{}^{\\prime\\prime}$\n",
       " $0^\\circ00{}^\\prime00.0171{}^{\\prime\\prime}$]"
      ],
      "text/plain": [
       "<Angle [  1.35684889e-05,  1.35684889e-05,  1.35684889e-05,\n",
       "          6.98878376e-06,  1.66074419e-05,  3.67445625e-06,\n",
       "          3.67445625e-06,  6.35715581e-06,  4.89926602e-06,\n",
       "          2.36320667e-06,  9.45719974e-06,  1.67166476e-05,\n",
       "          1.21665550e-05,  1.21665550e-05,  5.05999119e-06,\n",
       "          2.21041218e-05,  8.65478024e-06,  4.91883204e-07,\n",
       "          8.10351452e-06,  1.72612732e-06,  7.93524669e-06,\n",
       "          6.54428191e-06,  7.40767537e-06,  2.43246545e-05,\n",
       "          2.98349841e-06,  1.00988391e-05,  3.34814153e-05,\n",
       "          7.11556168e-06,  4.73862206e-06] deg>"
      ]
     },
     "execution_count": 49,
     "metadata": {},
     "output_type": "execute_result"
    }
   ],
   "source": [
    "d2d"
   ]
  },
  {
   "cell_type": "code",
   "execution_count": 46,
   "metadata": {},
   "outputs": [
    {
     "data": {
      "text/html": [
       "&lt;Table length=29&gt;\n",
       "<table id=\"table27256662112\" class=\"table-striped table-bordered table-condensed\">\n",
       "<thead><tr><th>wise_ra</th><th>wise_dec</th><th>wise_w1_nanomaggies</th><th>wise_w1_nanomaggies_ivar</th><th>wise_w2_nanomaggies</th><th>wise_w2_nanomaggies_ivar</th><th>wise_w3_nanomaggies</th><th>wise_w3_nanomaggies_ivar</th><th>wise_w4_nanomaggies</th><th>wise_w4_nanomaggies_ivar</th></tr></thead>\n",
       "<thead><tr><th>float64</th><th>float64</th><th>float32</th><th>float32</th><th>float32</th><th>float32</th><th>float32</th><th>float32</th><th>float32</th><th>float32</th></tr></thead>\n",
       "<tr><td>136.348322046</td><td>57.9867909564</td><td>473.654</td><td>0.0071384</td><td>567.186</td><td>0.000569416</td><td>19708.2</td><td>1.10561e-07</td><td>287461.0</td><td>1.53568e-10</td></tr>\n",
       "<tr><td>136.348322046</td><td>57.9867909564</td><td>473.654</td><td>0.0071384</td><td>567.186</td><td>0.000569416</td><td>19708.2</td><td>1.10561e-07</td><td>287461.0</td><td>1.53568e-10</td></tr>\n",
       "<tr><td>136.348322046</td><td>57.9867909564</td><td>473.654</td><td>0.0071384</td><td>567.186</td><td>0.000569416</td><td>19708.2</td><td>1.10561e-07</td><td>287461.0</td><td>1.53568e-10</td></tr>\n",
       "<tr><td>184.982405382</td><td>3.60441774002</td><td>979.807</td><td>0.00480286</td><td>1336.84</td><td>0.000270522</td><td>55407.0</td><td>5.80838e-08</td><td>752576.0</td><td>1.12701e-10</td></tr>\n",
       "<tr><td>135.389259613</td><td>3.23679973794</td><td>799.928</td><td>0.00387882</td><td>989.332</td><td>0.000291457</td><td>21333.8</td><td>6.14208e-08</td><td>326297.0</td><td>8.95338e-11</td></tr>\n",
       "<tr><td>166.761968507</td><td>4.28409836516</td><td>582.781</td><td>0.00433966</td><td>1069.95</td><td>0.000315964</td><td>49007.1</td><td>7.5229e-08</td><td>499158.0</td><td>1.13078e-10</td></tr>\n",
       "<tr><td>166.761968507</td><td>4.28409836516</td><td>582.781</td><td>0.00433966</td><td>1069.95</td><td>0.000315964</td><td>49007.1</td><td>7.5229e-08</td><td>499158.0</td><td>1.13078e-10</td></tr>\n",
       "<tr><td>226.515381611</td><td>61.53003093</td><td>519.875</td><td>0.0136851</td><td>614.166</td><td>0.00107465</td><td>13966.1</td><td>2.91995e-07</td><td>40246.0</td><td>3.95725e-10</td></tr>\n",
       "<tr><td>248.69367172</td><td>46.3296813523</td><td>1526.03</td><td>0.0119278</td><td>2301.25</td><td>0.000916749</td><td>19253.2</td><td>3.93181e-07</td><td>-90411.8</td><td>2.63432e-10</td></tr>\n",
       "<tr><td>248.923804258</td><td>47.1567862719</td><td>854.917</td><td>0.0119446</td><td>933.212</td><td>0.000934935</td><td>7655.26</td><td>4.11701e-07</td><td>106613.0</td><td>3.09594e-10</td></tr>\n",
       "<tr><td>...</td><td>...</td><td>...</td><td>...</td><td>...</td><td>...</td><td>...</td><td>...</td><td>...</td><td>...</td></tr>\n",
       "<tr><td>209.83743678</td><td>51.6274841105</td><td>660.153</td><td>0.0089464</td><td>1120.1</td><td>0.000689441</td><td>17256.1</td><td>1.78757e-07</td><td>133373.0</td><td>2.54092e-10</td></tr>\n",
       "<tr><td>239.546831307</td><td>39.9557877682</td><td>867.31</td><td>0.00785863</td><td>1470.98</td><td>0.000646754</td><td>51978.7</td><td>2.8178e-07</td><td>359837.0</td><td>3.96647e-10</td></tr>\n",
       "<tr><td>126.891151599</td><td>29.9142405927</td><td>507.929</td><td>0.00424538</td><td>588.708</td><td>0.000347224</td><td>7727.55</td><td>7.11581e-08</td><td>148391.0</td><td>1.07161e-10</td></tr>\n",
       "<tr><td>146.074370201</td><td>9.50538552106</td><td>628.292</td><td>0.00369038</td><td>842.826</td><td>0.000275155</td><td>31190.7</td><td>5.98348e-08</td><td>402505.0</td><td>8.90742e-11</td></tr>\n",
       "<tr><td>159.779031928</td><td>45.6316812323</td><td>963.279</td><td>0.00598422</td><td>1139.29</td><td>0.000441095</td><td>9515.48</td><td>1.01054e-07</td><td>-20407.9</td><td>1.43664e-10</td></tr>\n",
       "<tr><td>243.385524354</td><td>28.5707723474</td><td>1145.23</td><td>0.00734462</td><td>1878.01</td><td>0.000576789</td><td>82461.7</td><td>1.50547e-07</td><td>1.20294e+06</td><td>1.58354e-10</td></tr>\n",
       "<tr><td>188.065939336</td><td>7.38908536904</td><td>830.759</td><td>0.00336947</td><td>1240.09</td><td>0.000201673</td><td>19456.3</td><td>4.32566e-08</td><td>-616781.0</td><td>5.13074e-11</td></tr>\n",
       "<tr><td>222.620247807</td><td>46.3604735686</td><td>834.124</td><td>0.00870505</td><td>899.332</td><td>0.000688026</td><td>11700.7</td><td>2.01726e-07</td><td>125266.0</td><td>2.69918e-10</td></tr>\n",
       "<tr><td>137.178176748</td><td>10.6502125416</td><td>1105.37</td><td>0.0045177</td><td>1425.45</td><td>0.000331885</td><td>14264.0</td><td>8.01954e-08</td><td>30398.6</td><td>1.23033e-10</td></tr>\n",
       "<tr><td>187.457627913</td><td>35.7547578247</td><td>846.535</td><td>0.0048696</td><td>889.968</td><td>0.000356056</td><td>5910.25</td><td>8.31471e-08</td><td>15085.7</td><td>1.15093e-10</td></tr>\n",
       "</table>"
      ],
      "text/plain": [
       "<Table length=29>\n",
       "   wise_ra       wise_dec   ... wise_w4_nanomaggies wise_w4_nanomaggies_ivar\n",
       "   float64       float64    ...       float32               float32         \n",
       "------------- ------------- ... ------------------- ------------------------\n",
       "136.348322046 57.9867909564 ...            287461.0              1.53568e-10\n",
       "136.348322046 57.9867909564 ...            287461.0              1.53568e-10\n",
       "136.348322046 57.9867909564 ...            287461.0              1.53568e-10\n",
       "184.982405382 3.60441774002 ...            752576.0              1.12701e-10\n",
       "135.389259613 3.23679973794 ...            326297.0              8.95338e-11\n",
       "166.761968507 4.28409836516 ...            499158.0              1.13078e-10\n",
       "166.761968507 4.28409836516 ...            499158.0              1.13078e-10\n",
       "226.515381611   61.53003093 ...             40246.0              3.95725e-10\n",
       " 248.69367172 46.3296813523 ...            -90411.8              2.63432e-10\n",
       "248.923804258 47.1567862719 ...            106613.0              3.09594e-10\n",
       "          ...           ... ...                 ...                      ...\n",
       " 209.83743678 51.6274841105 ...            133373.0              2.54092e-10\n",
       "239.546831307 39.9557877682 ...            359837.0              3.96647e-10\n",
       "126.891151599 29.9142405927 ...            148391.0              1.07161e-10\n",
       "146.074370201 9.50538552106 ...            402505.0              8.90742e-11\n",
       "159.779031928 45.6316812323 ...            -20407.9              1.43664e-10\n",
       "243.385524354 28.5707723474 ...         1.20294e+06              1.58354e-10\n",
       "188.065939336 7.38908536904 ...           -616781.0              5.13074e-11\n",
       "222.620247807 46.3604735686 ...            125266.0              2.69918e-10\n",
       "137.178176748 10.6502125416 ...             30398.6              1.23033e-10\n",
       "187.457627913 35.7547578247 ...             15085.7              1.15093e-10"
      ]
     },
     "execution_count": 46,
     "metadata": {},
     "output_type": "execute_result"
    }
   ],
   "source": [
    "unwise[indx_unwise]"
   ]
  },
  {
   "cell_type": "markdown",
   "metadata": {},
   "source": [
    "### [1] Read the sample and write out a temporary file we can upload to CasJobs."
   ]
  },
  {
   "cell_type": "code",
   "execution_count": null,
   "metadata": {},
   "outputs": [],
   "source": []
  },
  {
   "cell_type": "code",
   "execution_count": 2,
   "metadata": {},
   "outputs": [],
   "source": [
    "def write_casjobs_file():\n",
    "    outfile = os.path.join(os.sep, 'Users', 'ioannis', 'Desktop', 'hizea_sample.tmp')\n",
    "    dat = ascii.read( os.path.join( os.getenv('HIZEA_DIR'), 'etc', 'hst_sample.dat' ) )\n",
    "    out = Table()\n",
    "    out['hizea_id'] = np.arange(len(dat))\n",
    "    out['hizea_ra'] = dat['ra']\n",
    "    out['hizea_dec'] = dat['dec']\n",
    "    print('Writing {}'.format(outfile))\n",
    "    out.write(outfile, format='ascii.commented_header', overwrite=True)\n",
    "    return out"
   ]
  },
  {
   "cell_type": "code",
   "execution_count": 3,
   "metadata": {},
   "outputs": [
    {
     "name": "stdout",
     "output_type": "stream",
     "text": [
      "Writing /Users/ioannis/Desktop/hizea_sample.tmp\n"
     ]
    },
    {
     "data": {
      "text/html": [
       "&lt;Table length=29&gt;\n",
       "<table id=\"table4404847952\" class=\"table-striped table-bordered table-condensed\">\n",
       "<thead><tr><th>hizea_id</th><th>hizea_ra</th><th>hizea_dec</th></tr></thead>\n",
       "<thead><tr><th>int64</th><th>float64</th><th>float64</th></tr></thead>\n",
       "<tr><td>0</td><td>226.65123962</td><td>54.03909907</td></tr>\n",
       "<tr><td>1</td><td>136.3483394</td><td>57.98680093</td></tr>\n",
       "<tr><td>2</td><td>205.40333219</td><td>-3.35701866</td></tr>\n",
       "<tr><td>3</td><td>146.07436936</td><td>9.50537816</td></tr>\n",
       "<tr><td>4</td><td>325.00205248</td><td>12.15405848</td></tr>\n",
       "<tr><td>5</td><td>126.66007153</td><td>43.09150738</td></tr>\n",
       "<tr><td>6</td><td>243.38552761</td><td>28.5707732</td></tr>\n",
       "<tr><td>7</td><td>184.98241233</td><td>3.60441687</td></tr>\n",
       "<tr><td>8</td><td>166.7619674</td><td>4.28410187</td></tr>\n",
       "<tr><td>9</td><td>135.38927607</td><td>3.23679732</td></tr>\n",
       "<tr><td>...</td><td>...</td><td>...</td></tr>\n",
       "<tr><td>19</td><td>344.0990057</td><td>15.07354666</td></tr>\n",
       "<tr><td>20</td><td>226.51539189</td><td>61.53003498</td></tr>\n",
       "<tr><td>21</td><td>137.17818041</td><td>10.65021868</td></tr>\n",
       "<tr><td>22</td><td>126.89114553</td><td>29.9142367</td></tr>\n",
       "<tr><td>23</td><td>248.69366588</td><td>46.32967857</td></tr>\n",
       "<tr><td>24</td><td>188.06594691</td><td>7.38909212</td></tr>\n",
       "<tr><td>25</td><td>166.15609592</td><td>59.77767736</td></tr>\n",
       "<tr><td>26</td><td>187.45763187</td><td>35.75475434</td></tr>\n",
       "<tr><td>27</td><td>192.02982804</td><td>6.01995682</td></tr>\n",
       "<tr><td>28</td><td>258.25160602</td><td>28.28563074</td></tr>\n",
       "</table>"
      ],
      "text/plain": [
       "<Table length=29>\n",
       "hizea_id   hizea_ra    hizea_dec \n",
       " int64     float64      float64  \n",
       "-------- ------------ -----------\n",
       "       0 226.65123962 54.03909907\n",
       "       1  136.3483394 57.98680093\n",
       "       2 205.40333219 -3.35701866\n",
       "       3 146.07436936  9.50537816\n",
       "       4 325.00205248 12.15405848\n",
       "       5 126.66007153 43.09150738\n",
       "       6 243.38552761  28.5707732\n",
       "       7 184.98241233  3.60441687\n",
       "       8  166.7619674  4.28410187\n",
       "       9 135.38927607  3.23679732\n",
       "     ...          ...         ...\n",
       "      19  344.0990057 15.07354666\n",
       "      20 226.51539189 61.53003498\n",
       "      21 137.17818041 10.65021868\n",
       "      22 126.89114553  29.9142367\n",
       "      23 248.69366588 46.32967857\n",
       "      24 188.06594691  7.38909212\n",
       "      25 166.15609592 59.77767736\n",
       "      26 187.45763187 35.75475434\n",
       "      27 192.02982804  6.01995682\n",
       "      28 258.25160602 28.28563074"
      ]
     },
     "execution_count": 3,
     "metadata": {},
     "output_type": "execute_result"
    }
   ],
   "source": [
    "out = write_casjobs_file()\n",
    "out"
   ]
  },
  {
   "cell_type": "markdown",
   "metadata": {},
   "source": [
    "### [2] Import the sample into CasJobs.\n",
    "\n",
    "Unfortunately when you import a simple ASCII file, CasJobs does not keep the RA,Dec coordinates in double precision.  So first create a table in the *Query* tab (using the *Quick* submission option) thusly:\n",
    "```SQL\n",
    "CREATE TABLE hizea ( hizea_id int, hizea_ra float, hizea_dec float );\n",
    "```\n",
    "and then in the *Import* tab be sure to import the data directly into this table."
   ]
  },
  {
   "cell_type": "markdown",
   "metadata": {},
   "source": [
    "### [3] Search for ObjID using RA,Dec positions.\n",
    "\n",
    "Next, gather the SDSS ObjID using the RA,Dec positions and a 1 arcsec search radius.  In the *Query* tab be sure to set the *Context* to DR14 and then execute the following query.\n",
    "\n",
    "```SQL\n",
    "SELECT\n",
    "  h.hizea_id,\n",
    "  h.hizea_ra,\n",
    "  h.hizea_dec,\n",
    "  p.objid,\n",
    "  p.ra,\n",
    "  p.dec,\n",
    "  p.run,\n",
    "  p.rerun,\n",
    "  p.camcol\n",
    "INTO mydb.hizea_match FROM mydb.hizea AS h\n",
    "  OUTER APPLY dbo.fGetNearestObjEq( h.hizea_ra, h.hizea_dec, 0.01666) AS n \n",
    "  LEFT JOIN dr14.PhotoObj AS p ON n.objid=p.objid\n",
    "ORDER BY h.hizea_id\n",
    "```"
   ]
  },
  {
   "cell_type": "markdown",
   "metadata": {},
   "source": [
    "### [4] Finally gather the SDSS + unWISE photometry.\n",
    "\n",
    "Finally, we use the output of the previous step to retrieve the full set of SDSS (*ugriz*) and unWISE (*W1W2*) forced photometry by executing the following query (again, using the DR14 *Context*).  Note that we call the output table (not creatively) *hst_sample_sdssWISEphot.fits*.\n",
    "\n",
    "```SQL\n",
    "SELECT\n",
    "  h.hizea_id,\n",
    "  p.objid,\n",
    "  p.ra,\n",
    "  p.dec,\n",
    "  p.run,\n",
    "  p.rerun,\n",
    "  p.camcol,\n",
    "  p.field,\n",
    "  p.type,\n",
    "  p.petroflux_u,\n",
    "  p.petroflux_g,\n",
    "  p.petroflux_r,\n",
    "  p.petroflux_i,\n",
    "  p.petroflux_z,\n",
    "  p.petrofluxivar_u,\n",
    "  p.petrofluxivar_g,\n",
    "  p.petrofluxivar_r,\n",
    "  p.petrofluxivar_i,\n",
    "  p.petrofluxivar_z,\n",
    "  p.modelflux_u,\n",
    "  p.modelflux_g,\n",
    "  p.modelflux_r,\n",
    "  p.modelflux_i,\n",
    "  p.modelflux_z,\n",
    "  p.modelfluxivar_u,\n",
    "  p.modelfluxivar_g,\n",
    "  p.modelfluxivar_r,\n",
    "  p.modelfluxivar_i,\n",
    "  p.modelfluxivar_z,\n",
    "  p.cmodelflux_u,\n",
    "  p.cmodelflux_g,\n",
    "  p.cmodelflux_r,\n",
    "  p.cmodelflux_i,\n",
    "  p.cmodelflux_z,\n",
    "  p.cmodelfluxivar_u,\n",
    "  p.cmodelfluxivar_g,\n",
    "  p.cmodelfluxivar_r,\n",
    "  p.cmodelfluxivar_i,\n",
    "  p.cmodelfluxivar_z,\n",
    "  p.extinction_u,\n",
    "  p.extinction_g,\n",
    "  p.extinction_r,\n",
    "  p.extinction_i,\n",
    "  p.extinction_z,\n",
    "  p.petroR50_u,\n",
    "  p.petroR50_g,\n",
    "  p.petroR50_r,\n",
    "  p.petroR50_i,\n",
    "  p.petroR50_z,\n",
    "  f.w1_nanomaggies,\n",
    "  f.w1_nanomaggies_ivar,\n",
    "  f.w2_nanomaggies,\n",
    "  f.w2_nanomaggies_ivar\n",
    "INTO mydb.hst_sample_sdssWISEphot from mydb.hizea_match as h\n",
    "  JOIN dr14.PhotoObj AS p ON h.objid=p.objid\n",
    "  JOIN dr14.wiseForcedTarget AS f ON h.objid=f.objid\n",
    "ORDER BY h.hizea_id\n",
    "```"
   ]
  },
  {
   "cell_type": "code",
   "execution_count": null,
   "metadata": {},
   "outputs": [],
   "source": []
  }
 ],
 "metadata": {
  "kernelspec": {
   "display_name": "Python 3",
   "language": "python",
   "name": "python3"
  },
  "language_info": {
   "codemirror_mode": {
    "name": "ipython",
    "version": 3
   },
   "file_extension": ".py",
   "mimetype": "text/x-python",
   "name": "python",
   "nbconvert_exporter": "python",
   "pygments_lexer": "ipython3",
   "version": "3.6.3"
  }
 },
 "nbformat": 4,
 "nbformat_minor": 2
}

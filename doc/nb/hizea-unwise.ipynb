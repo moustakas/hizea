{
 "cells": [
  {
   "cell_type": "markdown",
   "metadata": {},
   "source": [
    "# Gather unWISE photometry for the HST sample\n",
    "\n",
    "The goal of this notebook is to document how we retrieve DR14 SDSS *ugriz* and unWISE *W1-W2* (forced) photometry for the HST HizEA sample of galaxies.\n",
    "\n",
    "The input catalog is\n",
    "* $HIZEA_DIR/etc/hst_sample.dat\n",
    "\n",
    "and the output (row-matched) catalog containing *just* the SDSS/unWISE photometry is\n",
    "* $HIZEA_DIR/etc/XXX"
   ]
  },
  {
   "cell_type": "code",
   "execution_count": 1,
   "metadata": {},
   "outputs": [],
   "source": [
    "import os\n",
    "import numpy as np\n",
    "\n",
    "from astropy.io import ascii\n",
    "from astropy.table import Table"
   ]
  },
  {
   "cell_type": "markdown",
   "metadata": {},
   "source": [
    "### [1] Read the sample and write out a temporary file we can upload to CasJobs."
   ]
  },
  {
   "cell_type": "code",
   "execution_count": 2,
   "metadata": {},
   "outputs": [],
   "source": [
    "def write_casjobs_file():\n",
    "    outfile = os.path.join(os.sep, 'Users', 'ioannis', 'Desktop', 'hizea_sample.tmp')\n",
    "    dat = ascii.read( os.path.join( os.getenv('HIZEA_DIR'), 'etc', 'hst_sample.dat' ) )\n",
    "    out = Table()\n",
    "    out['hizea_id'] = np.arange(len(dat))\n",
    "    out['hizea_ra'] = dat['ra']\n",
    "    out['hizea_dec'] = dat['dec']\n",
    "    print('Writing {}'.format(outfile))\n",
    "    out.write(outfile, format='ascii.commented_header', overwrite=True)\n",
    "    return out"
   ]
  },
  {
   "cell_type": "code",
   "execution_count": 3,
   "metadata": {},
   "outputs": [
    {
     "name": "stdout",
     "output_type": "stream",
     "text": [
      "Writing /Users/ioannis/Desktop/hizea_sample.tmp\n"
     ]
    },
    {
     "data": {
      "text/html": [
       "&lt;Table length=29&gt;\n",
       "<table id=\"table4404847952\" class=\"table-striped table-bordered table-condensed\">\n",
       "<thead><tr><th>hizea_id</th><th>hizea_ra</th><th>hizea_dec</th></tr></thead>\n",
       "<thead><tr><th>int64</th><th>float64</th><th>float64</th></tr></thead>\n",
       "<tr><td>0</td><td>226.65123962</td><td>54.03909907</td></tr>\n",
       "<tr><td>1</td><td>136.3483394</td><td>57.98680093</td></tr>\n",
       "<tr><td>2</td><td>205.40333219</td><td>-3.35701866</td></tr>\n",
       "<tr><td>3</td><td>146.07436936</td><td>9.50537816</td></tr>\n",
       "<tr><td>4</td><td>325.00205248</td><td>12.15405848</td></tr>\n",
       "<tr><td>5</td><td>126.66007153</td><td>43.09150738</td></tr>\n",
       "<tr><td>6</td><td>243.38552761</td><td>28.5707732</td></tr>\n",
       "<tr><td>7</td><td>184.98241233</td><td>3.60441687</td></tr>\n",
       "<tr><td>8</td><td>166.7619674</td><td>4.28410187</td></tr>\n",
       "<tr><td>9</td><td>135.38927607</td><td>3.23679732</td></tr>\n",
       "<tr><td>...</td><td>...</td><td>...</td></tr>\n",
       "<tr><td>19</td><td>344.0990057</td><td>15.07354666</td></tr>\n",
       "<tr><td>20</td><td>226.51539189</td><td>61.53003498</td></tr>\n",
       "<tr><td>21</td><td>137.17818041</td><td>10.65021868</td></tr>\n",
       "<tr><td>22</td><td>126.89114553</td><td>29.9142367</td></tr>\n",
       "<tr><td>23</td><td>248.69366588</td><td>46.32967857</td></tr>\n",
       "<tr><td>24</td><td>188.06594691</td><td>7.38909212</td></tr>\n",
       "<tr><td>25</td><td>166.15609592</td><td>59.77767736</td></tr>\n",
       "<tr><td>26</td><td>187.45763187</td><td>35.75475434</td></tr>\n",
       "<tr><td>27</td><td>192.02982804</td><td>6.01995682</td></tr>\n",
       "<tr><td>28</td><td>258.25160602</td><td>28.28563074</td></tr>\n",
       "</table>"
      ],
      "text/plain": [
       "<Table length=29>\n",
       "hizea_id   hizea_ra    hizea_dec \n",
       " int64     float64      float64  \n",
       "-------- ------------ -----------\n",
       "       0 226.65123962 54.03909907\n",
       "       1  136.3483394 57.98680093\n",
       "       2 205.40333219 -3.35701866\n",
       "       3 146.07436936  9.50537816\n",
       "       4 325.00205248 12.15405848\n",
       "       5 126.66007153 43.09150738\n",
       "       6 243.38552761  28.5707732\n",
       "       7 184.98241233  3.60441687\n",
       "       8  166.7619674  4.28410187\n",
       "       9 135.38927607  3.23679732\n",
       "     ...          ...         ...\n",
       "      19  344.0990057 15.07354666\n",
       "      20 226.51539189 61.53003498\n",
       "      21 137.17818041 10.65021868\n",
       "      22 126.89114553  29.9142367\n",
       "      23 248.69366588 46.32967857\n",
       "      24 188.06594691  7.38909212\n",
       "      25 166.15609592 59.77767736\n",
       "      26 187.45763187 35.75475434\n",
       "      27 192.02982804  6.01995682\n",
       "      28 258.25160602 28.28563074"
      ]
     },
     "execution_count": 3,
     "metadata": {},
     "output_type": "execute_result"
    }
   ],
   "source": [
    "out = write_casjobs_file()\n",
    "out"
   ]
  },
  {
   "cell_type": "markdown",
   "metadata": {},
   "source": [
    "### [2] Import the sample into CasJobs.\n",
    "\n",
    "Unfortunately when you import a simple ASCII file, CasJobs does not keep the RA,Dec coordinates in double precision.  So first create a table in the *Query* tab (using the *Quick* submission option) thusly:\n",
    "```SQL\n",
    "CREATE TABLE hizea ( hizea_id int, hizea_ra float, hizea_dec float );\n",
    "```\n",
    "and then in the *Import* tab be sure to import the data directly into this table."
   ]
  },
  {
   "cell_type": "markdown",
   "metadata": {},
   "source": [
    "### [3] Search for ObjID using RA,Dec positions.\n",
    "\n",
    "Next, gather the SDSS ObjID using the RA,Dec positions and a 1 arcsec search radius.  In the *Query* tab be sure to set the *Context* to DR14 and then execute the following query.\n",
    "\n",
    "```SQL\n",
    "SELECT\n",
    "  h.hizea_id,\n",
    "  h.hizea_ra,\n",
    "  h.hizea_dec,\n",
    "  p.objid,\n",
    "  p.ra,\n",
    "  p.dec,\n",
    "  p.run,\n",
    "  p.rerun,\n",
    "  p.camcol\n",
    "INTO mydb.hizea_match FROM mydb.hizea AS h\n",
    "  OUTER APPLY dbo.fGetNearestObjEq( h.hizea_ra, h.hizea_dec, 0.01666) AS n \n",
    "  LEFT JOIN dr14.PhotoObj AS p ON n.objid=p.objid\n",
    "ORDER BY h.hizea_id\n",
    "```"
   ]
  },
  {
   "cell_type": "markdown",
   "metadata": {},
   "source": [
    "### [4] Finally gather the SDSS + unWISE photometry.\n",
    "\n",
    "Finally, we use the output of the previous step to retrieve the full set of SDSS (*ugriz*) and unWISE (*W1W2*) forced photometry by executing the following query (again, using the DR14 *Context*).  Note that we call the output table (not creatively) *hst_sample_sdssWISEphot.fits*.\n",
    "\n",
    "```SQL\n",
    "SELECT\n",
    "  h.hizea_id,\n",
    "  p.objid,\n",
    "  p.ra,\n",
    "  p.dec,\n",
    "  p.run,\n",
    "  p.rerun,\n",
    "  p.camcol,\n",
    "  p.field,\n",
    "  p.type,\n",
    "  p.petroflux_u,\n",
    "  p.petroflux_g,\n",
    "  p.petroflux_r,\n",
    "  p.petroflux_i,\n",
    "  p.petroflux_z,\n",
    "  p.petrofluxivar_u,\n",
    "  p.petrofluxivar_g,\n",
    "  p.petrofluxivar_r,\n",
    "  p.petrofluxivar_i,\n",
    "  p.petrofluxivar_z,\n",
    "  p.modelflux_u,\n",
    "  p.modelflux_g,\n",
    "  p.modelflux_r,\n",
    "  p.modelflux_i,\n",
    "  p.modelflux_z,\n",
    "  p.modelfluxivar_u,\n",
    "  p.modelfluxivar_g,\n",
    "  p.modelfluxivar_r,\n",
    "  p.modelfluxivar_i,\n",
    "  p.modelfluxivar_z,\n",
    "  p.cmodelflux_u,\n",
    "  p.cmodelflux_g,\n",
    "  p.cmodelflux_r,\n",
    "  p.cmodelflux_i,\n",
    "  p.cmodelflux_z,\n",
    "  p.cmodelfluxivar_u,\n",
    "  p.cmodelfluxivar_g,\n",
    "  p.cmodelfluxivar_r,\n",
    "  p.cmodelfluxivar_i,\n",
    "  p.cmodelfluxivar_z,\n",
    "  p.extinction_u,\n",
    "  p.extinction_g,\n",
    "  p.extinction_r,\n",
    "  p.extinction_i,\n",
    "  p.extinction_z,\n",
    "  p.petroR50_u,\n",
    "  p.petroR50_g,\n",
    "  p.petroR50_r,\n",
    "  p.petroR50_i,\n",
    "  p.petroR50_z,\n",
    "  f.w1_nanomaggies,\n",
    "  f.w1_nanomaggies_ivar,\n",
    "  f.w2_nanomaggies,\n",
    "  f.w2_nanomaggies_ivar\n",
    "INTO mydb.hst_sample_sdssWISEphot from mydb.hizea_match as h\n",
    "  JOIN dr14.PhotoObj AS p ON h.objid=p.objid\n",
    "  JOIN dr14.wiseForcedTarget AS f ON h.objid=f.objid\n",
    "ORDER BY h.hizea_id\n",
    "```"
   ]
  },
  {
   "cell_type": "code",
   "execution_count": null,
   "metadata": {},
   "outputs": [],
   "source": []
  }
 ],
 "metadata": {
  "kernelspec": {
   "display_name": "Python 3",
   "language": "python",
   "name": "python3"
  },
  "language_info": {
   "codemirror_mode": {
    "name": "ipython",
    "version": 3
   },
   "file_extension": ".py",
   "mimetype": "text/x-python",
   "name": "python",
   "nbconvert_exporter": "python",
   "pygments_lexer": "ipython3",
   "version": "3.6.3"
  }
 },
 "nbformat": 4,
 "nbformat_minor": 2
}

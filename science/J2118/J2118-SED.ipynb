{
 "cells": [
  {
   "cell_type": "markdown",
   "metadata": {},
   "source": [
    "# J2118 SED analysis"
   ]
  },
  {
   "cell_type": "code",
   "execution_count": 1,
   "metadata": {},
   "outputs": [],
   "source": [
    "import os, time, pdb\n",
    "import numpy as np"
   ]
  },
  {
   "cell_type": "code",
   "execution_count": 2,
   "metadata": {},
   "outputs": [],
   "source": [
    "from hizea.prospector import load_sps, load_obs, load_model, max_likelihood"
   ]
  },
  {
   "cell_type": "markdown",
   "metadata": {},
   "source": [
    "#### Plotting preferences"
   ]
  },
  {
   "cell_type": "code",
   "execution_count": 3,
   "metadata": {},
   "outputs": [],
   "source": [
    "import matplotlib.pyplot as plt\n",
    "import seaborn as sns\n",
    "sns.set(style='ticks', font_scale=1.8, palette='Set2')\n",
    "%matplotlib inline"
   ]
  },
  {
   "cell_type": "code",
   "execution_count": 4,
   "metadata": {},
   "outputs": [],
   "source": [
    "seed = 1"
   ]
  },
  {
   "cell_type": "markdown",
   "metadata": {},
   "source": [
    "### Load the SPS models, just once."
   ]
  },
  {
   "cell_type": "code",
   "execution_count": 5,
   "metadata": {},
   "outputs": [
    {
     "name": "stdout",
     "output_type": "stream",
     "text": [
      "CPU times: user 13.1 s, sys: 1.21 s, total: 14.3 s\n",
      "Wall time: 14.6 s\n"
     ]
    }
   ],
   "source": [
    "%time sps = load_sps()"
   ]
  },
  {
   "cell_type": "markdown",
   "metadata": {},
   "source": [
    "### Read the photometry and filter curves into a dictionary."
   ]
  },
  {
   "cell_type": "code",
   "execution_count": 6,
   "metadata": {},
   "outputs": [
    {
     "data": {
      "text/plain": [
       "{'redshift': 0.535,\n",
       " 'filters': [<class 'sedpy.observate.Filter'>(galex_FUV),\n",
       "  <class 'sedpy.observate.Filter'>(galex_NUV),\n",
       "  <class 'sedpy.observate.Filter'>(sdss_u0),\n",
       "  <class 'sedpy.observate.Filter'>(sdss_g0),\n",
       "  <class 'sedpy.observate.Filter'>(sdss_r0),\n",
       "  <class 'sedpy.observate.Filter'>(sdss_i0),\n",
       "  <class 'sedpy.observate.Filter'>(sdss_z0),\n",
       "  <class 'sedpy.observate.Filter'>(spitzer_irac_ch1),\n",
       "  <class 'sedpy.observate.Filter'>(spitzer_irac_ch2),\n",
       "  <class 'sedpy.observate.Filter'>(wise_w1),\n",
       "  <class 'sedpy.observate.Filter'>(wise_w2),\n",
       "  <class 'sedpy.observate.Filter'>(wise_w3),\n",
       "  <class 'sedpy.observate.Filter'>(wise_w4)],\n",
       " 'maggies': array([1.82491e-09, 8.06441e-09, 1.27666e-08, 1.59991e-08, 3.15573e-08,\n",
       "        3.63049e-08, 4.14564e-08, 9.25971e-08, 9.67009e-08, 9.40651e-08,\n",
       "        1.02882e-07, 5.44324e-07, 1.38524e-06]),\n",
       " 'maggies_unc': array([2.94736581e-10, 2.10368802e-10, 8.07610601e-10, 3.65778541e-10,\n",
       "        6.76050781e-10, 8.06144963e-10, 1.92021365e-09, 1.59745020e-09,\n",
       "        1.68007680e-09, 1.33467937e-09, 2.68429535e-09, 3.50767737e-08,\n",
       "        2.29115668e-07]),\n",
       " 'phot_wave': [1528.0585558648577,\n",
       "  2271.124796128299,\n",
       "  3545.9817872504386,\n",
       "  4669.57922989812,\n",
       "  6155.670913186546,\n",
       "  7471.5456560638195,\n",
       "  8917.334306399607,\n",
       "  35378.510121992826,\n",
       "  44780.550994056764,\n",
       "  33461.019080998245,\n",
       "  45952.08900757079,\n",
       "  115526.28857066314,\n",
       "  220783.4887786836],\n",
       " 'wavelength': None,\n",
       " 'spectrum': None,\n",
       " 'unc': None,\n",
       " 'mask': None,\n",
       " 'phot_mask': array([ True,  True,  True,  True,  True,  True,  True,  True,  True,\n",
       "         True,  True,  True,  True]),\n",
       " 'filternames': ['galex_FUV',\n",
       "  'galex_NUV',\n",
       "  'sdss_u0',\n",
       "  'sdss_g0',\n",
       "  'sdss_r0',\n",
       "  'sdss_i0',\n",
       "  'sdss_z0',\n",
       "  'spitzer_irac_ch1',\n",
       "  'spitzer_irac_ch2',\n",
       "  'wise_w1',\n",
       "  'wise_w2',\n",
       "  'wise_w3',\n",
       "  'wise_w4'],\n",
       " 'logify_spectrum': False,\n",
       " 'ndof': 13}"
      ]
     },
     "execution_count": 6,
     "metadata": {},
     "output_type": "execute_result"
    }
   ],
   "source": [
    "obs, run_params = load_obs()\n",
    "obs"
   ]
  },
  {
   "cell_type": "markdown",
   "metadata": {},
   "source": [
    "### Specify the prior model from among the available templates."
   ]
  },
  {
   "cell_type": "code",
   "execution_count": 7,
   "metadata": {},
   "outputs": [
    {
     "name": "stdout",
     "output_type": "stream",
     "text": [
      "'type_defaults':\n",
      "  Explicitly sets dust amd IMF types.\n",
      "'ssp':\n",
      "  Basic set of (free) parameters for a delta function SFH\n",
      "'parametric_sfh':\n",
      "  Basic set of (free) parameters for a delay-tau SFH.\n",
      "'dust_emission':\n",
      "  The set of (fixed) dust emission parameters.\n",
      "'nebular':\n",
      "  The set of nebular emission parameters, with gas_logz tied to stellar logzsol.\n",
      "'agn':\n",
      "  The set of (fixed) AGN dusty torus emission parameters.\n",
      "'igm':\n",
      "  The set of (fixed) IGM absorption parameters.\n",
      "'spectral_smoothing':\n",
      "  Set of parameters for spectal smoothing.\n",
      "'optimize_speccal':\n",
      "  Set of parameters (most of which are fixed) for optimizing a polynomial calibration vector.\n",
      "'fit_speccal':\n",
      "  Set of parameters (most of which are free) for sampling the coefficients of a polynomial calibration vector.\n",
      "'burst_sfh':\n",
      "  The set of (fixed) parameters for an SF burst added to a parameteric SFH, with the burst time controlled by `fage_burst`.\n",
      "'logm_sfh':\n",
      "  Non-parameteric SFH fitting for log-mass in fixed time bins\n",
      "'continuity_sfh':\n",
      "  Non-parameteric SFH fitting for mass in fixed time bins with a smoothness prior\n",
      "'continuity_flex_sfh':\n",
      "  Non-parameteric SFH fitting for mass in flexible time bins with a smoothness prior\n",
      "'dirichlet_sfh':\n",
      "  Non-parameteric SFH with Dirichlet prior (fractional SFR)\n",
      "'alpha':\n",
      "  The prospector-alpha model, Leja et al. 2017\n"
     ]
    }
   ],
   "source": [
    "from prospect.models.templates import TemplateLibrary\n",
    "TemplateLibrary.show_contents()"
   ]
  },
  {
   "cell_type": "code",
   "execution_count": 9,
   "metadata": {},
   "outputs": [
    {
     "name": "stdout",
     "output_type": "stream",
     "text": [
      "Free Parameters: (name: prior) \n",
      "-----------\n",
      "  \n",
      "\n",
      "Fixed Parameters: (name: value [, depends_on]) \n",
      "-----------\n",
      "  tburst: 0.0 <function tburst_from_fage at 0x15db4f6a8>\n",
      "  fburst: 0.0 \n",
      "  fage_burst: 0.0 \n"
     ]
    }
   ],
   "source": [
    "TemplateLibrary.describe('burst_sfh')"
   ]
  },
  {
   "cell_type": "code",
   "execution_count": 18,
   "metadata": {},
   "outputs": [
    {
     "name": "stdout",
     "output_type": "stream",
     "text": [
      "Free Parameters: (name: prior) \n",
      "-----------\n",
      "  mass: <class 'prospect.models.priors.LogUniform'>(mini=100000000.0,maxi=1000000000000.0)\n",
      "  logzsol: <class 'prospect.models.priors.TopHat'>(mini=-2,maxi=0.19)\n",
      "  dust2: <class 'prospect.models.priors.TopHat'>(mini=0.0,maxi=2.0)\n",
      "  tage: <class 'prospect.models.priors.TopHat'>(mini=0.001,maxi=13.8)\n",
      "  tau: <class 'prospect.models.priors.LogUniform'>(mini=0.1,maxi=30)\n",
      "\n",
      "Fixed Parameters: (name: value [, depends_on]) \n",
      "-----------\n",
      "  zred: 0.1 \n",
      "  sfh: 4 \n",
      "  imf_type: 2 \n",
      "  dust_type: 0 \n"
     ]
    }
   ],
   "source": [
    "TemplateLibrary.describe('parametric_sfh')"
   ]
  },
  {
   "cell_type": "code",
   "execution_count": 7,
   "metadata": {},
   "outputs": [
    {
     "data": {
      "text/plain": [
       "<bound method ProspectorParams.theta_labels of :::::::\n",
       "<class 'prospect.models.sedmodel.SedModel'>\n",
       "\n",
       "Free Parameters: (name: prior) \n",
       "-----------\n",
       "  mass: <class 'prospect.models.priors.LogUniform'>(mini=10000000000.0,maxi=1000000000000.0)\n",
       "  logzsol: <class 'prospect.models.priors.TopHat'>(mini=-1.0,maxi=0.3)\n",
       "  dust2: <class 'prospect.models.priors.TopHat'>(mini=0.0,maxi=2.0)\n",
       "  tage: <class 'prospect.models.priors.LogUniform'>(mini=0.001,maxi=10)\n",
       "  tau: <class 'prospect.models.priors.LogUniform'>(mini=1,maxi=100.0)\n",
       "\n",
       "Fixed Parameters: (name: value [, depends_on]) \n",
       "-----------\n",
       "  zred: 0.535 \n",
       "  sfh: 4 \n",
       "  imf_type: 2 \n",
       "  dust_type: 0 \n",
       "  add_dust_emission: True \n",
       "  duste_umin: 1.0 \n",
       "  duste_qpah: 4.0 \n",
       "  duste_gamma: 0.001 >"
      ]
     },
     "execution_count": 7,
     "metadata": {},
     "output_type": "execute_result"
    }
   ],
   "source": [
    "model = load_model('delayed-tau', redshift=obs['redshift'])\n",
    "model.theta_labels"
   ]
  },
  {
   "cell_type": "code",
   "execution_count": 8,
   "metadata": {},
   "outputs": [
    {
     "name": "stderr",
     "output_type": "stream",
     "text": [
      "/usr/local/anaconda3/envs/hizea/lib/python3.6/site-packages/prospect-0.2-py3.6.egg/prospect/models/priors.py:155: RuntimeWarning: divide by zero encountered in log\n"
     ]
    },
    {
     "name": "stdout",
     "output_type": "stream",
     "text": [
      "done levenberg_marquardt in 244.2120180130005s\n",
      "best levenberg_marquardt chi-sq: 204.22080136694126\n",
      "best guess paramaters:\n",
      "  mass = 130453618456.23543\n",
      "  logzsol = 0.2999426315658634\n",
      "  dust2 = 0.9756011059828721\n",
      "  tage = 1.1343295629501209\n",
      "  tau = 49.781666545222805\n"
     ]
    }
   ],
   "source": [
    "theta_best = max_likelihood(run_params, model, obs, sps, verbose=True, seed=seed)"
   ]
  },
  {
   "cell_type": "code",
   "execution_count": 10,
   "metadata": {},
   "outputs": [
    {
     "data": {
      "text/plain": [
       "array([1.30453618e+11, 2.99942632e-01, 9.75601106e-01, 1.13432956e+00,\n",
       "       4.97816665e+01])"
      ]
     },
     "execution_count": 10,
     "metadata": {},
     "output_type": "execute_result"
    }
   ],
   "source": [
    "theta_best"
   ]
  },
  {
   "cell_type": "code",
   "execution_count": 12,
   "metadata": {},
   "outputs": [],
   "source": [
    "def qa_sed(theta_best, model, obs, sps):\n",
    "    \n",
    "    pspec, pphot, pextra = model.mean_model(theta_best, obs, sps=sps)\n",
    "\n",
    "    wphot = obs['phot_wave']\n",
    "    wspec = sps.wavelengths * (1.0 + model.params.get('zred'))\n",
    "\n",
    "    xmin, xmax = np.min(wphot)*0.5, np.max(wphot)/0.5\n",
    "    temp = np.interp(np.linspace(xmin, xmax, 10000), wspec, pspec)\n",
    "    ymin, ymax = temp.min()*0.8, temp.max()/0.4    \n",
    "    \n",
    "    fig, ax = plt.subplots(figsize=(12, 8))\n",
    "\n",
    "    ax.loglog(wspec, pspec, label='Model spectrum', lw=0.7, color='navy', alpha=0.7)\n",
    "    ax.errorbar(wphot, pphot, label='Model photometry', marker='s', markersize=10, \n",
    "                alpha=0.8, ls='', lw=3, markerfacecolor='none', markeredgecolor='blue', \n",
    "                markeredgewidth=3)\n",
    "    ax.errorbar(wphot, obs['maggies'], yerr=obs['maggies_unc'], label='Observed photometry', \n",
    "                marker='o', markersize=10, alpha=0.8, ls='', lw=3, ecolor='red', \n",
    "                markerfacecolor='none', markeredgecolor='red', \n",
    "                markeredgewidth=3)\n",
    "\n",
    "    ax.set_xlabel(r'Observed-frame Wavelength ($\\mu$m)')\n",
    "    ax.set_ylabel('Flux Density [maggies]')\n",
    "    ax.set_xlim([xmin, xmax])\n",
    "    ax.set_ylim([ymin, ymax])\n",
    "    ax.legend(loc='best', fontsize=20)\n",
    "    plt.tight_layout()"
   ]
  },
  {
   "cell_type": "code",
   "execution_count": 13,
   "metadata": {},
   "outputs": [
    {
     "data": {
      "image/png": "[encoded data removed]",
      "text/plain": [
       "<Figure size 864x576 with 1 Axes>"
      ]
     },
     "metadata": {
      "needs_background": "light"
     },
     "output_type": "display_data"
    }
   ],
   "source": [
    "qa_sed(theta_best, model, obs, sps)"
   ]
  },
  {
   "cell_type": "code",
   "execution_count": null,
   "metadata": {},
   "outputs": [],
   "source": [
    "wspec"
   ]
  },
  {
   "cell_type": "code",
   "execution_count": null,
   "metadata": {},
   "outputs": [],
   "source": [
    "stop"
   ]
  },
  {
   "cell_type": "code",
   "execution_count": null,
   "metadata": {},
   "outputs": [],
   "source": [
    "# Generate the model SED at some value of theta\n",
    "theta = model.theta.copy()\n",
    "theta[model.theta_index[\"mass\"]] = 1e8\n",
    "initial_spec, initial_phot, initial_mfrac = model.sed(theta, obs=obs, sps=sps)\n",
    "# spec, phot, x = sps.get_spectrum(outwave=obs['wavelength'], filters=obs[\"filters\"], **model.params)\n",
    "title_text = ','.join([\"{}={}\".format(p, model.params[p][0]) for p in model.free_params])\n",
    "\n",
    "a = 1.0 + model.params.get('zred', 0.0) # cosmological redshifting\n",
    "# photometric effective wavelengths\n",
    "wphot = obs[\"phot_wave\"]\n",
    "# spectroscopic wavelengths\n",
    "if obs[\"wavelength\"] is None:\n",
    "    # *restframe* spectral wavelengths, since obs[\"wavelength\"] is None\n",
    "    wspec = sps.wavelengths\n",
    "    wspec *= a #redshift them\n",
    "else:\n",
    "    wspec = obs[\"wavelength\"]\n",
    "\n",
    "# establish bounds\n",
    "xmin, xmax = np.min(wphot)*0.8, np.max(wphot)/0.8\n",
    "temp = np.interp(np.linspace(xmin,xmax,10000), wspec, initial_spec)\n",
    "ymin, ymax = temp.min()*0.8, temp.max()/0.4\n",
    "figure(figsize=(16,8))\n",
    "\n",
    "# plot model + data\n",
    "loglog(wspec, initial_spec, label='Model spectrum', \n",
    "       lw=0.7, color='navy', alpha=0.7)\n",
    "errorbar(wphot, initial_phot, label='Model photometry', \n",
    "         marker='s',markersize=10, alpha=0.8, ls='', lw=3,\n",
    "         markerfacecolor='none', markeredgecolor='blue', \n",
    "         markeredgewidth=3)\n",
    "errorbar(wphot, obs['maggies'], yerr=obs['maggies_unc'], \n",
    "         label='Observed photometry',\n",
    "         marker='o', markersize=10, alpha=0.8, ls='', lw=3,\n",
    "         ecolor='red', markerfacecolor='none', markeredgecolor='red', \n",
    "         markeredgewidth=3)\n",
    "title(title_text)\n",
    "\n",
    "# plot Filters\n",
    "for f in obs['filters']:\n",
    "    w, t = f.wavelength.copy(), f.transmission.copy()\n",
    "    while t.max() > 1:\n",
    "        t /= 10.\n",
    "    t = 0.1*(ymax-ymin)*t + ymin\n",
    "    loglog(w, t, lw=3, color='gray', alpha=0.7)\n",
    "\n",
    "# prettify\n",
    "xlabel('Wavelength [A]')\n",
    "ylabel('Flux Density [maggies]')\n",
    "xlim([xmin, xmax])\n",
    "ylim([ymin, ymax])\n",
    "legend(loc='best', fontsize=20)\n",
    "tight_layout()"
   ]
  }
 ],
 "metadata": {
  "kernelspec": {
   "display_name": "Python 3",
   "language": "python",
   "name": "python3"
  },
  "language_info": {
   "codemirror_mode": {
    "name": "ipython",
    "version": 3
   },
   "file_extension": ".py",
   "mimetype": "text/x-python",
   "name": "python",
   "nbconvert_exporter": "python",
   "pygments_lexer": "ipython3",
   "version": "3.6.7"
  }
 },
 "nbformat": 4,
 "nbformat_minor": 2
}

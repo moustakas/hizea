{
 "cells": [
  {
   "cell_type": "markdown",
   "metadata": {},
   "source": [
    "# J2118 SED analysis"
   ]
  },
  {
   "cell_type": "code",
   "execution_count": 13,
   "metadata": {},
   "outputs": [],
   "source": [
    "import os, time, pdb\n",
    "import numpy as np"
   ]
  },
  {
   "cell_type": "markdown",
   "metadata": {},
   "source": [
    "#### Plotting preferences"
   ]
  },
  {
   "cell_type": "code",
   "execution_count": 14,
   "metadata": {},
   "outputs": [],
   "source": [
    "import matplotlib.pyplot as plt\n",
    "import seaborn as sns\n",
    "sns.set(style='ticks', font_scale=1.8, palette='Set2')\n",
    "%matplotlib inline"
   ]
  },
  {
   "cell_type": "code",
   "execution_count": 15,
   "metadata": {},
   "outputs": [],
   "source": [
    "from prospect.models.templates import TemplateLibrary\n",
    "#TemplateLibrary.describe('alpha')"
   ]
  },
  {
   "cell_type": "code",
   "execution_count": 16,
   "metadata": {},
   "outputs": [],
   "source": [
    "from prospect.io import read_results as reader"
   ]
  },
  {
   "cell_type": "code",
   "execution_count": 17,
   "metadata": {},
   "outputs": [
    {
     "name": "stdout",
     "output_type": "stream",
     "text": [
      "dict_keys(['model_params', 'optimizer_duration', 'paramfile_text', 'prospector_version', 'run_params', 'chain', 'efficiency', 'information', 'lnlikelihood', 'lnprobability', 'logvol', 'logz', 'logzerr', 'niter', 'samples_id', 'weights', 'ncall', 'sampling_duration', 'theta_labels', 'obs', 'model', 'optimization_results'])\n"
     ]
    }
   ],
   "source": [
    "result, obs, _ = reader.results_from('J2118-delayed-tau.h5', dangerous=False)\n",
    "print(result.keys())"
   ]
  },
  {
   "cell_type": "code",
   "execution_count": 20,
   "metadata": {},
   "outputs": [
    {
     "name": "stdout",
     "output_type": "stream",
     "text": [
      "CPU times: user 85 µs, sys: 0 ns, total: 85 µs\n",
      "Wall time: 90.8 µs\n"
     ]
    }
   ],
   "source": [
    "from hizea.prospector import load_model, load_sps\n",
    "model = load_model('delayed-tau', redshift=0.535)\n",
    "%time sps = load_sps()"
   ]
  },
  {
   "cell_type": "code",
   "execution_count": 21,
   "metadata": {},
   "outputs": [
    {
     "name": "stdout",
     "output_type": "stream",
     "text": [
      ":::::::\n",
      "<class 'prospect.models.sedmodel.SedModel'>\n",
      "\n",
      "Free Parameters: (name: prior) \n",
      "-----------\n",
      "  logmass: <class 'prospect.models.priors.TopHat'>(mini=10.0,maxi=12.0)\n",
      "\n",
      "Fixed Parameters: (name: value [, depends_on]) \n",
      "-----------\n",
      "  zred: 0.535 \n",
      "  mass: 100000000000.0 <function logmass2mass at 0x1058da8c8>\n",
      "  logzsol: 0.2 \n",
      "  dust2: 1.0 \n",
      "  sfh: 4 \n",
      "  tage: 1.0 \n",
      "  imf_type: 2 \n",
      "  dust_type: 0 \n",
      "  tau: 10.0 \n",
      "  add_dust_emission: True \n",
      "  duste_umin: 1.0 \n",
      "  duste_qpah: 4.0 \n",
      "  duste_gamma: 0.001 \n"
     ]
    }
   ],
   "source": [
    "print(model)"
   ]
  },
  {
   "cell_type": "code",
   "execution_count": 22,
   "metadata": {},
   "outputs": [
    {
     "data": {
      "text/plain": [
       "array([ 6.19166442, 38.33462908, 15.8078658 , 43.73985402, 46.67888997,\n",
       "       45.03520046, 21.58947261, 57.96556272, 57.55742846, 70.47767591,\n",
       "       38.32737699, 15.51807486,  6.04602911])"
      ]
     },
     "execution_count": 22,
     "metadata": {},
     "output_type": "execute_result"
    }
   ],
   "source": [
    "obs['maggies']/obs['maggies_unc']"
   ]
  },
  {
   "cell_type": "code",
   "execution_count": 39,
   "metadata": {},
   "outputs": [],
   "source": [
    "ang2micron = 1e-4 # Angstrom --> micron\n",
    "maggies2mJy = 10**(0.4*16.4) # maggies --> mJy\n",
    "\n",
    "def _galaxyphot(obs):\n",
    "    \"\"\"Get the galaxy photometry and inverse variances (converted to mJy) and filter\n",
    "    effective wavelengths (converted to microns).\n",
    "\n",
    "    \"\"\"\n",
    "    weff = np.array([f.wave_effective for f in obs['filters']]) * ang2micron\n",
    "    fwhm = np.array([f.effective_width for f in obs['filters']]) * ang2micron\n",
    "\n",
    "    galphot = obs['maggies'] * maggies2mJy\n",
    "    galphoterr = obs['maggies_unc'] * maggies2mJy\n",
    "\n",
    "    return weff, fwhm, galphot, galphoterr\n",
    "\n",
    "def _sed(model, theta, obs, sps):\n",
    "    \"\"\"Construct the SED for a given set of parameters.  Divide by mextra to account\n",
    "    for the *current* mass in stars (rather than the integrated stellar mass\n",
    "    based on the SFH.\n",
    "\n",
    "    Also convert wavelengths from Angstroms to microns and fluxes from maggies\n",
    "    to mJy.\n",
    "\n",
    "    \"\"\"\n",
    "    modelwave = sps.wavelengths * (1 + obs['redshift']) # [observed-frame wavelengths]\n",
    "    modelwave *= ang2micron\n",
    "    \n",
    "    modelspec, modelphot, mextra = model.mean_model(theta, obs, sps=sps)\n",
    "    modelspec *= maggies2mJy\n",
    "    modelphot *= maggies2mJy\n",
    "    #print(modelphot)\n",
    "    \n",
    "    return modelwave, modelspec, modelphot\n",
    "\n",
    "def bestfit_sed(obs, chain=None, lnprobability=None, theta=None, sps=None,\n",
    "                model=None, seed=None, nrand=100):\n",
    "    \"\"\"Plot the (photometric) best-fitting SED.\n",
    "\n",
    "    Either pass chain and lnprobability (to visualize the emcee fitting results)\n",
    "    *or* theta (to visualize just a single SED fit).\n",
    "\n",
    "    \"\"\"\n",
    "    rand = np.random.RandomState(seed)\n",
    "\n",
    "    # Get the galaxy photometry and filter info.\n",
    "    weff, fwhm, galphot, galphoterr = _galaxyphot(obs)\n",
    "\n",
    "    # Build the maximum likelihood model fit and also grab a random sampling of\n",
    "    # the chains with weight equal to the posterior probability.    \n",
    "    if chain is not None:\n",
    "        if chain.ndim == 3: # emcee\n",
    "            nwalkers, niter, nparams = chain.shape\n",
    "            ntot = nwalkers * niter\n",
    "            flatchain = chain.reshape(ntot, nparams)\n",
    "            lnp = lnprobability.reshape(ntot)\n",
    "        else: # dynesty\n",
    "            ntot, nparams = chain.shape\n",
    "            flatchain = chain\n",
    "            lnp = lnprobability\n",
    "            \n",
    "        theta = flatchain[lnp.argmax(), :] # maximum likelihood values\n",
    "        print(theta)\n",
    "\n",
    "        prob = np.exp(lnp - lnp.max())\n",
    "        prob /= prob.sum()\n",
    "        rand_indx = rand.choice(ntot, size=nrand, replace=False, p=prob)\n",
    "        theta_rand = flatchain[rand_indx, :]\n",
    "        \n",
    "    modelwave, modelspec, modelphot = _sed(model=model, theta=theta, obs=obs, sps=sps)\n",
    "\n",
    "    # Establish the wavelength and flux limits.\n",
    "    minwave, maxwave = 0.05, 20.0\n",
    "    #minwave, maxwave = np.min(weff - 5*fwhm), np.max(weff + fwhm)\n",
    "\n",
    "    inrange = (modelwave > minwave) * (modelwave < maxwave)\n",
    "    #maxflux = np.hstack( (galphot + 3*galphoterr, modelspec[inrange]) ).max() * 1.05\n",
    "    #minflux = -0.05 * maxflux\n",
    "\n",
    "    fig, ax = plt.subplots(figsize=(12, 8))\n",
    "    if chain is not None and nrand > 0:\n",
    "        for ii in range(nrand):\n",
    "            print(theta_rand[ii, :])\n",
    "            _, r_modelspec, _ = _sed(model=model, theta=theta_rand[ii, :], obs=obs, sps=sps)\n",
    "            ax.plot(modelwave, r_modelspec, alpha=0.2, color='gray')\n",
    "    ax.plot(modelwave, modelspec, alpha=1.0, label='Model spectrum')\n",
    "    \n",
    "    ax.errorbar(weff, modelphot, marker='s', ls='', lw=3, markersize=20, markerfacecolor='none',\n",
    "                markeredgewidth=3, alpha=0.8, label='Model photometry')\n",
    "    ax.errorbar(weff, galphot, yerr=galphoterr, marker='o', ls='', lw=3, markersize=10,\n",
    "                markeredgewidth=3, alpha=0.8, label='Observed photometry')\n",
    "                \n",
    "    ax.set_xlabel(r'Observed-frame Wavelength (${}$m)'.format('\\mu'))\n",
    "    ax.set_ylabel('Flux Density (mJy)')\n",
    "    ax.set_xlim(minwave, maxwave)\n",
    "    #ax.set_ylim(minflux, maxflux)\n",
    "    ax.set_xscale('log')\n",
    "    ax.set_yscale('log')\n",
    "    ax.legend(loc='upper right', fontsize=16, frameon=True)\n",
    "    #plt.subplots_adjust(left=0.1, right=0.95, bottom=0.12, top=0.95)\n",
    "    #return fig"
   ]
  },
  {
   "cell_type": "code",
   "execution_count": 40,
   "metadata": {},
   "outputs": [
    {
     "name": "stdout",
     "output_type": "stream",
     "text": [
      "[11.08969923]\n"
     ]
    },
    {
     "data": {
      "image/png": "[encoded data removed]",
      "text/plain": [
       "<Figure size 864x576 with 1 Axes>"
      ]
     },
     "metadata": {
      "needs_background": "light"
     },
     "output_type": "display_data"
    }
   ],
   "source": [
    "bestfit_sed(obs, chain=result['chain'], lnprobability=result['lnprobability'], \n",
    "            sps=sps, model=model, seed=1, nrand=0)"
   ]
  },
  {
   "cell_type": "code",
   "execution_count": 11,
   "metadata": {},
   "outputs": [
    {
     "name": "stdout",
     "output_type": "stream",
     "text": [
      "[1.04473689]\n",
      "Maximum likelihood values: [1.04473689]\n"
     ]
    },
    {
     "data": {
      "text/plain": [
       "<ErrorbarContainer object of 3 artists>"
      ]
     },
     "execution_count": 11,
     "metadata": {},
     "output_type": "execute_result"
    },
    {
     "data": {
      "image/png": "[encoded data removed]",
      "text/plain": [
       "<Figure size 432x288 with 1 Axes>"
      ]
     },
     "metadata": {
      "needs_background": "light"
     },
     "output_type": "display_data"
    }
   ],
   "source": [
    "imax = np.argmax(result['lnprobability'])\n",
    "theta_max = result[\"chain\"][imax, :]\n",
    "print(theta_max)\n",
    "print('Maximum likelihood values: {}'.format(theta_max))\n",
    "\n",
    "#theta_max[0] = np.log10(theta_max[0])\n",
    "mspec, mphot, mextra = model.mean_model(theta_max, obs, sps=sps)\n",
    "wspec = sps.wavelengths * (1.0 + model.params.get('zred'))\n",
    "wphot = obs[\"phot_wave\"]\n",
    "plt.loglog(wspec, mspec, label='Model spectrum (random draw)',\n",
    "           lw=0.7, color='navy', alpha=0.7)\n",
    "plt.errorbar(wphot, obs['maggies'], yerr=obs['maggies_unc'], \n",
    "         label='Observed photometry', ecolor='red', \n",
    "         marker='o', markersize=10, ls='', lw=3, alpha=0.8, \n",
    "         markerfacecolor='none', markeredgecolor='red', \n",
    "         markeredgewidth=3)"
   ]
  },
  {
   "cell_type": "code",
   "execution_count": null,
   "metadata": {},
   "outputs": [],
   "source": [
    "# randomly chosen parameters from chain\n",
    "randint = np.random.randint\n",
    "theta = result[\"chain\"][randint(len(result[\"chain\"]))]\n",
    "\n",
    "# generate models\n",
    "#sps = reader.get_sps(result)  # this works if using parameter files\n",
    "mspec, mphot, mextra = model.mean_model(theta, obs, sps=sps)\n",
    "mspec_map, mphot_map, _ = model.mean_model(theta_max, obs, sps=sps)\n",
    "\n",
    "wspec = sps.wavelengths * (1.0 + model.params.get('zred'))\n",
    "wphot = obs[\"phot_wave\"]\n",
    "\n",
    "xmin, xmax = np.min(wphot)*0.8, np.max(wphot)/0.8\n",
    "temp = np.interp(np.linspace(xmin,xmax,10000), wspec, mspec)\n",
    "ymin, ymax = temp.min()*0.8, temp.max()/0.4\n",
    "\n",
    "# Make plot of data and model\n",
    "fig, ax = plt.subplots(figsize=(12, 8))\n",
    "\n",
    "ax.loglog(wspec, mspec, label='Model spectrum (random draw)',\n",
    "       lw=0.7, color='navy', alpha=0.7)\n",
    "ax.loglog(wspec, mspec_map, label='Model spectrum (MAP)',\n",
    "       lw=0.7, color='green', alpha=0.7)\n",
    "ax.errorbar(wphot, mphot, label='Model photometry (random draw)',\n",
    "         marker='s', markersize=10, alpha=0.8, ls='', lw=3, \n",
    "         markerfacecolor='none', markeredgecolor='blue', \n",
    "         markeredgewidth=3)\n",
    "ax.errorbar(wphot, mphot_map, label='Model photometry (MAP)',\n",
    "         marker='s', markersize=10, alpha=0.8, ls='', lw=3, \n",
    "         markerfacecolor='none', markeredgecolor='green', \n",
    "         markeredgewidth=3)\n",
    "ax.errorbar(wphot, obs['maggies'], yerr=obs['maggies_unc'], \n",
    "         label='Observed photometry', ecolor='red', \n",
    "         marker='o', markersize=10, ls='', lw=3, alpha=0.8, \n",
    "         markerfacecolor='none', markeredgecolor='red', \n",
    "         markeredgewidth=3)\n",
    "\n",
    "ax.set_xlabel('Wavelength [A]')\n",
    "ax.set_ylabel('Flux Density [maggies]')\n",
    "ax.set_xlim([xmin, xmax])\n",
    "ax.set_ylim([ymin, ymax])\n",
    "ax.legend(loc='best', fontsize=20)\n",
    "plt.tight_layout()"
   ]
  },
  {
   "cell_type": "code",
   "execution_count": null,
   "metadata": {},
   "outputs": [],
   "source": [
    "cornerfig = reader.subcorner(result, start=0, thin=1, fig=plt.subplots(5,5,figsize=(27,27))[0])"
   ]
  },
  {
   "cell_type": "code",
   "execution_count": null,
   "metadata": {},
   "outputs": [],
   "source": [
    "tracefig = reader.traceplot(result, figsize=(20,10))"
   ]
  },
  {
   "cell_type": "code",
   "execution_count": null,
   "metadata": {},
   "outputs": [],
   "source": [
    "stop"
   ]
  },
  {
   "cell_type": "code",
   "execution_count": null,
   "metadata": {},
   "outputs": [],
   "source": [
    "TemplateLibrary.describe('burst_sfh')"
   ]
  },
  {
   "cell_type": "code",
   "execution_count": null,
   "metadata": {},
   "outputs": [],
   "source": [
    "TemplateLibrary.describe('parametric_sfh')"
   ]
  },
  {
   "cell_type": "code",
   "execution_count": null,
   "metadata": {},
   "outputs": [],
   "source": [
    "model = load_model('delayed-tau', redshift=obs['redshift'])\n",
    "model.theta_labels"
   ]
  },
  {
   "cell_type": "code",
   "execution_count": null,
   "metadata": {},
   "outputs": [],
   "source": [
    "%time theta_best = max_likelihood(run_params, model, obs, sps, verbose=True, seed=seed)"
   ]
  },
  {
   "cell_type": "code",
   "execution_count": null,
   "metadata": {},
   "outputs": [],
   "source": [
    "def qa_sed(theta_best, model, obs, sps):\n",
    "    \n",
    "    pspec, pphot, pextra = model.mean_model(theta_best, obs, sps=sps)\n",
    "\n",
    "    wphot = obs['phot_wave']\n",
    "    wspec = sps.wavelengths * (1.0 + model.params.get('zred'))\n",
    "\n",
    "    xmin, xmax = np.min(wphot)*0.5, np.max(wphot)/0.5\n",
    "    temp = np.interp(np.linspace(xmin, xmax, 10000), wspec, pspec)\n",
    "    ymin, ymax = temp.min()*0.8, temp.max()/0.4    \n",
    "    \n",
    "    fig, ax = plt.subplots(figsize=(12, 8))\n",
    "\n",
    "    ax.loglog(wspec, pspec, label='Model spectrum', lw=0.7, color='navy', alpha=0.7)\n",
    "    ax.errorbar(wphot, pphot, label='Model photometry', marker='s', markersize=10, \n",
    "                alpha=0.8, ls='', lw=3, markerfacecolor='none', markeredgecolor='blue', \n",
    "                markeredgewidth=3)\n",
    "    ax.errorbar(wphot, obs['maggies'], yerr=obs['maggies_unc'], label='Observed photometry', \n",
    "                marker='o', markersize=10, alpha=0.8, ls='', lw=3, ecolor='red', \n",
    "                markerfacecolor='none', markeredgecolor='red', \n",
    "                markeredgewidth=3)\n",
    "\n",
    "    ax.set_xlabel(r'Observed-frame Wavelength ($\\mu$m)')\n",
    "    ax.set_ylabel('Flux Density [maggies]')\n",
    "    ax.set_xlim([xmin, xmax])\n",
    "    ax.set_ylim([ymin, ymax])\n",
    "    ax.legend(loc='best', fontsize=20)\n",
    "    plt.tight_layout()"
   ]
  },
  {
   "cell_type": "code",
   "execution_count": null,
   "metadata": {},
   "outputs": [],
   "source": [
    "qa_sed(theta_best, model, obs, sps)"
   ]
  },
  {
   "cell_type": "code",
   "execution_count": null,
   "metadata": {},
   "outputs": [],
   "source": [
    "wspec"
   ]
  }
 ],
 "metadata": {
  "kernelspec": {
   "display_name": "Python 3",
   "language": "python",
   "name": "python3"
  },
  "language_info": {
   "codemirror_mode": {
    "name": "ipython",
    "version": 3
   },
   "file_extension": ".py",
   "mimetype": "text/x-python",
   "name": "python",
   "nbconvert_exporter": "python",
   "pygments_lexer": "ipython3",
   "version": "3.6.7"
  }
 },
 "nbformat": 4,
 "nbformat_minor": 2
}
